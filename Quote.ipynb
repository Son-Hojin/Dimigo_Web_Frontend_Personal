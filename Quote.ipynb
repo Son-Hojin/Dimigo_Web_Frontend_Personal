{
 "cells": [
  {
   "cell_type": "code",
   "execution_count": 1,
   "metadata": {},
   "outputs": [],
   "source": [
    "from selenium import webdriver\n",
    "from bs4 import BeautifulSoup\n"
   ]
  },
  {
   "cell_type": "code",
   "execution_count": 11,
   "metadata": {},
   "outputs": [],
   "source": [
    "def find_viewlist():\n",
    "    chrome_options = webdriver.ChromeOptions()\n",
    "    chrome_options.add_argument('headless')\n",
    "    #options.add_argument('window-size=1920x1080')\n",
    "    chrome_options.add_argument(\"disable-gpu\")\n",
    "    # 혹은 options.add_argument(\"--disable-gpu\") # 위 코드에서 오류가 나면 대시(-) 두 개 붙이기\n",
    "\n",
    "    driver = webdriver.Chrome('./driver/chromedriver.exe', options=chrome_options)\n",
    "    \n",
    "    driver.get(\"http://naver.com\")\n",
    "\n",
    "    elem_query = driver.find_element_by_id(\"query\")\n",
    "    elem_query.clear()\n",
    "    elem_query.send_keys(\"독서 명언\")\n",
    "\n",
    "    xpath = '//*[@id=\"search_btn\"]'\n",
    "    driver.find_element_by_xpath(xpath).click()\n",
    "\n",
    "    html = driver.page_source\n",
    "    soup = BeautifulSoup(html,\"html.parser\")\n",
    "    viewlist = soup.findAll(\"div\",{'class':'viewlst'})\n",
    "    \n",
    "    return viewlist"
   ]
  },
  {
   "cell_type": "code",
   "execution_count": 12,
   "metadata": {},
   "outputs": [
    {
     "name": "stdout",
     "output_type": "stream",
     "text": [
      "완료\n"
     ]
    }
   ],
   "source": [
    "viewlist = find_viewlist()\n",
    "print(\"완료\")"
   ]
  },
  {
   "cell_type": "code",
   "execution_count": 13,
   "metadata": {},
   "outputs": [
    {
     "name": "stdout",
     "output_type": "stream",
     "text": [
      "<div class=\"viewlst\"> <h4 class=\"blind\">마크 트웨인 명언</h4> <div class=\"stnbx\"> <p class=\"lngkr\"> <span class=\"dot\"></span>제인 오스틴의 책에서 누락된 내용만으로도 책 한 권 없던 도서관을 꽤 좋은 도서관으로 만들 수 있을 것이다.<span class=\"dot cls\"></span> </p> <p class=\"lngeng\">Just the omission of Jane Austen's books alone would make a fairly good library out of a library that hadn't a book in it.</p> <span class=\"blk\"></span> </div> <span class=\"bsdw\" style=\"display: none\"></span> <a class=\"btn_sr naver-splugin\" data-evkey=\"famous_saying\" data-service-name=\"통합검색\" data-style=\"unity-v2\" data-title=\"독서 명언 : 네이버 통합검색\" data-url=\"\" href=\"#\" nocr=\"\" onclick=\"goOtherTCR(this, 'a=nco_x2s*1.share&amp;r=1&amp;i=001331B2_000000000000');return false;\">공유하기</a> <dl> <dt> <a href=\"http://navercast.naver.com/contents.nhn?rid=75&amp;contents_id=535\" nocr=\"\" onclick=\"return goOtherCR(this, 'a=nco_x2s*1.writer&amp;r=1&amp;i=001331B2_000000000000&amp;u=' + urlencode(this.href));\">마크 트웨인</a> <span class=\"engnm\">Mark Twain</span> </dt> <dd class=\"expln\">&lt;허클베리 핀의 모험&gt;, &lt;톰 소여의 모험&gt;, &lt;왕자와 거지&gt; 등으로 '미국 문학의 링컨', '미국 현대문학의 효시'로 평가받는 소설가이자 사회비평가</dd> <dd> <a class=\"lnk_mr\" href=\"https://endic.naver.com/search_example.nhn?sLn=kr&amp;query=마크 트웨인%20%EB%AA%85%EC%96%B8\" nocr=\"\" onclick=\"return goOtherCR(this, 'a=nco_x2s*1.whomore&amp;r=1&amp;i=001331B2_000000000000&amp;u=' + urlencode(this.href));\" target=\"_blank\"> <span class=\"blind\">마크 트웨인</span>명언 더보기 (2) </a> </dd> </dl> </div>\n"
     ]
    }
   ],
   "source": [
    "print(viewlist[0])"
   ]
  },
  {
   "cell_type": "code",
   "execution_count": 5,
   "metadata": {},
   "outputs": [],
   "source": [
    "quote_list = []\n",
    "author_list = []"
   ]
  },
  {
   "cell_type": "code",
   "execution_count": 6,
   "metadata": {},
   "outputs": [],
   "source": [
    "def extract_quote(viewlist):\n",
    "    for view in viewlist:\n",
    "        quote_list.append(view.find('p',{'class':\"lngkr\"}).text)"
   ]
  },
  {
   "cell_type": "code",
   "execution_count": 7,
   "metadata": {},
   "outputs": [
    {
     "name": "stdout",
     "output_type": "stream",
     "text": [
      "[' 제인 오스틴의 책에서 누락된 내용만으로도 책 한 권 없던 도서관을 꽤 좋은 도서관으로 만들 수 있을 것이다. ', ' 책을 태우는 사람들과 합류하지 말라. 오류가 존재했다는 증거를 은폐함으로써 오류 자체를 은폐할 수 있을 것이라고 생각하지 말라. 도서관에 가서 모든 책을 읽는 것을 두려워하지 말라… ', ' 읽다 죽어도 멋져 보일 책을 항상 읽으라. ', ' 이 책을 읽는 것은 첫 신을 신고 발 떼기를 기다리는 것과 같다. ', ' 일정 연령이 지나면 독서는 창의적인 추구로부터 마음을 너무 멀어지게 만든다. 너무 많이 읽고 자신의 뇌를 너무 적게 쓰는 사람은 누구나 게으른 사고 습관에 빠진다. ', ' 한 문장이라도 매일 조금씩 읽기로 결심하라. 하루 15분씩 시간을 내면 연말에는 변화가 느껴질 것이다. ', ' 많이 읽어라. 그러나 많은 책을 읽지는 마라. ', ' 독서할 때 당신은 항상 가장 좋은 친구와 함께 있다. ', ' 서점 만큼 인간의 심성이 그토록 약해지는 곳이 어디 있는가? ', ' 단순히 읽기 시작했다는 이유만으로 결코 책을 끝까지 읽지 말라. ', ' 사귀는 친구만큼 읽는 책에도 주의하라. 습관과 성격은 전자만큼이나 후자에게서도 영향을 받을 것이기 때문이다. ', ' 책은 가장 조용하고 변함 없는 벗이다. 책은 가장 쉽게 다가갈 수 있고 가장 현명한 상담자이자, 가장 인내심 있는 교사이다. ', ' 독서가 정신에 미치는 효과는 운동이 신체에 미치는 효과와 같다. ', ' 한 권의 책은 세계에 대한 하나의 버전이다. 그 버전이 마음에 들지 않으면 무시하든지 답례로 자신만의 버전을 제공하라. ', ' 책들은… 바닷가재 껍질과도 같아서 우리는 자신을 책으로 감싼 후 뚫고 자라나 초기 성장단계들의 증거로 뒤에 남긴다. ', ' 많은 책들이 우리를 무식하게 만들고 있다. ', ' 좋은 책을 읽지 않는 사람은 책을 읽을 수 없는 사람보다 나을 바 없다. ', ' 네 책의 복사본 보내줘서 고마워. 읽느라 시간 낭비하지 않을께. ', ' 책 없는 방은 영혼 없는 육체와도 같다. ', ' 반박하거나 오류를 찾아내려고 책을 읽지 말고 이야기와 담화를 찾아내려고도 읽지 말며 단지 숙고하고 고려하기 위하여 읽으라. ']\n"
     ]
    }
   ],
   "source": [
    "quote_list.clear()\n",
    "extract_quote(viewlist)\n",
    "print(quote_list)"
   ]
  },
  {
   "cell_type": "code",
   "execution_count": 8,
   "metadata": {},
   "outputs": [],
   "source": [
    "def extract_author(viewlist):\n",
    "    for view in viewlist:\n",
    "        author_list.append(view.find('dl').find('a',{'nocr':''}).text)\n",
    "        "
   ]
  },
  {
   "cell_type": "code",
   "execution_count": 9,
   "metadata": {},
   "outputs": [
    {
     "name": "stdout",
     "output_type": "stream",
     "text": [
      "['마크 트웨인', '드와이트 데이비드 아이젠하워', 'P. J. 오루크', '랠프 노박', '알버트 아인슈타인', '호러스 맨', '벤자민 프랭클린', '시드니 스미스', '헨리 워드 비처', '존 위더스푼', '팩스튼 후드', '찰스 W. 엘리엇', '리처드 스틸', '살만 루시디', '도로시 세이어즈', '볼테르', '마크 트웨인', '모지즈 하다스', '키케로', '프랜시스 베이컨']\n"
     ]
    }
   ],
   "source": [
    "author_list.clear()\n",
    "extract_author(viewlist)\n",
    "print(author_list)"
   ]
  },
  {
   "cell_type": "code",
   "execution_count": 10,
   "metadata": {},
   "outputs": [],
   "source": [
    "def print_quote():\n",
    "    for i in range(len(author_list)):\n",
    "        print('\"',end='')\n",
    "        print(quote_list[i], end='')\n",
    "        print('\"')\n",
    "        print(\"\\t- \", end=\"\")\n",
    "        print(author_list[i], end=\" -\\n\")\n",
    "        "
   ]
  },
  {
   "cell_type": "code",
   "execution_count": 30,
   "metadata": {
    "scrolled": false
   },
   "outputs": [
    {
     "name": "stdout",
     "output_type": "stream",
     "text": [
      "\" 제인 오스틴의 책에서 누락된 내용만으로도 책 한 권 없던 도서관을 꽤 좋은 도서관으로 만들 수 있을 것이다. \"\n",
      "\t- 마크 트웨인 -\n",
      "\" 읽는 것 만큼 쓰는 것을 통해서도 많이 배운다. \"\n",
      "\t- 액톤 경 -\n",
      "\" 그것은 죽었으면 하고 바라는 사람들이 시간을 죽이기 위해 읽는 책이었다. \"\n",
      "\t- 로즈 매콜리 -\n",
      "\" 서점 만큼 인간의 심성이 그토록 약해지는 곳이 어디 있는가? \"\n",
      "\t- 헨리 워드 비처 -\n",
      "\" 책이 천장에, 하늘에 닿는다. 내가 쌓은 책은 높이가 1마일은 된다. 내가 얼마나 이 책들을 사랑하는지! 내게 이 책이 얼마나 필요한지! 내가 이 책들을 읽을 때 쯤이면 나는 긴 수염을 기르고 있을 것이다. \"\n",
      "\t- 아놀드 로벨 -\n",
      "\" 독서가 정신에 미치는 효과는 운동이 신체에 미치는 효과와 같다. \"\n",
      "\t- 리처드 스틸 -\n",
      "\" 많이 읽어라. 그러나 많은 책을 읽지는 마라. \"\n",
      "\t- 벤자민 프랭클린 -\n",
      "\" 책을 태우는 사람들과 합류하지 말라. 오류가 존재했다는 증거를 은폐함으로써 오류 자체를 은폐할 수 있을 것이라고 생각하지 말라. 도서관에 가서 모든 책을 읽는 것을 두려워하지 말라… \"\n",
      "\t- 드와이트 데이비드 아이젠하워 -\n",
      "\" 닫혀있기만 한 책은 블록일 뿐이다. \"\n",
      "\t- 토마스 풀러 -\n",
      "\" 부당하게 잊혀지는 책은 있어도 과분하게 기억되는 책은 없다. \"\n",
      "\t- 오든 -\n",
      "\" 나는 삶을 변화시키는 아이디어를 항상 책에서 얻었다. \"\n",
      "\t- 벨 훅스 -\n",
      "\" 제멋대로 골랐다는 불평을 하지 말고 먼저 소설을 집어 들어야 하는 유일한 이유는 그것이 재밌을 것이기 때문이다. \"\n",
      "\t- 헨리 제임스 -\n",
      "\" 읽다 죽어도 멋져 보일 책을 항상 읽으라. \"\n",
      "\t- P. J. 오루크 -\n",
      "\" 일정 연령이 지나면 독서는 창의적인 추구로부터 마음을 너무 멀어지게 만든다. 너무 많이 읽고 자신의 뇌를 너무 적게 쓰는 사람은 누구나 게으른 사고 습관에 빠진다. \"\n",
      "\t- 알버트 아인슈타인 -\n",
      "\" 한 시간 독서로 누그러지지 않은 걱정은 결코 없다. \"\n",
      "\t- 샤를 드 스공다 -\n",
      "\" 신간은 대개 1년이면 잊혀지는데 특히 책을 빌리는 사람들에게서 잊혀진다. \"\n",
      "\t- 에반 에사르 -\n",
      "\" 내가 책을 읽을 때 눈으로만 읽는 것 같지만 가끔씩 나에게 의미가 있는 대목, 어쩌면 한 구절만이라도 우연히 발견하면 책은 나의 일부가 된다. \"\n",
      "\t- 윌리엄 서머셋 모옴 -\n",
      "\" 어떤 책들은 맛보기 용이고 어떤 책들은 삼키기 용이며 몇몇 책들은 씹고 소화시키기 용이다. 즉, 어떤 책들은 일부만 읽으면 되고 어떤 책들은 다 읽되 호기심을 가질 필요는 없으며 몇몇 책들은 완전하고 충실하고 주의깊게 읽어야 한다. \"\n",
      "\t- 프랜시스 베이컨 -\n",
      "\" 종교서적이든 아니든 책을 크리스마스 선물로 주라. 책은 살찔 염려도 전혀 없고 죄책감에 시달리는 일도 거의 없고 영원히 개인소장할 수 있다. \"\n",
      "\t- 레노어 허시 -\n",
      "\" 문학은 나의 이상향이다. 여기에서는 내 권리를 박탈당하지 않는다. 감각의 어떠한 장애물도 달콤하고 우아한 내 책 친구들의 이야기로부터 나를 차단하지 않는다. 그들은 나에게 곤란함이나 어색함없이 이야기한다. \"\n",
      "\t- 헬렌 켈러 -\n"
     ]
    }
   ],
   "source": [
    "print_quote()"
   ]
  },
  {
   "cell_type": "code",
   "execution_count": null,
   "metadata": {},
   "outputs": [],
   "source": []
  },
  {
   "cell_type": "code",
   "execution_count": null,
   "metadata": {},
   "outputs": [],
   "source": []
  }
 ],
 "metadata": {
  "kernelspec": {
   "display_name": "Python 3",
   "language": "python",
   "name": "python3"
  },
  "language_info": {
   "codemirror_mode": {
    "name": "ipython",
    "version": 3
   },
   "file_extension": ".py",
   "mimetype": "text/x-python",
   "name": "python",
   "nbconvert_exporter": "python",
   "pygments_lexer": "ipython3",
   "version": "3.7.6"
  }
 },
 "nbformat": 4,
 "nbformat_minor": 4
}
